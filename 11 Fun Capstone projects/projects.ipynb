{
 "cells": [
  {
   "cell_type": "markdown",
   "metadata": {},
   "source": [
    "# Python Programming Capstone Projects\n",
    "* These projects will test the understanding of various python concepts that we have discussed in the introduction to python section of the course."
   ]
  },
  {
   "cell_type": "markdown",
   "metadata": {},
   "source": [
    "### 1. Rock Paper Scissors Game\n",
    "This project requires mastery of conditional statements, lists and randomization.\n",
    "\n",
    "#### Thought process\n",
    "* Understand what the rock paper scissors game is and how it's played.\n",
    "* Break down the logic.\n",
    "* Implement the logic into code.\n",
    "* Test your code.\n",
    "* Have fun playing the game.\n",
    "Note: Googling is an important part of programming."
   ]
  },
  {
   "cell_type": "code",
   "execution_count": 21,
   "metadata": {},
   "outputs": [
    {
     "name": "stdout",
     "output_type": "stream",
     "text": [
      "ROUND 1\n",
      "Computer choice: Scissors\n",
      "Player choice: Rock\n",
      "\n",
      "\n",
      "ROUND 2\n",
      "Computer choice: Rock\n",
      "Player choice: Paper\n",
      "\n",
      "\n",
      "ROUND 3\n",
      "Computer choice: Rock\n",
      "Player choice: Rock\n",
      "\n",
      "\n",
      "GAME OVER!\n",
      "Player won the game. 2/3\n"
     ]
    }
   ],
   "source": [
    "import random\n",
    "timer = 1\n",
    "player_wins = 0\n",
    "computer_wins = 0\n",
    "\n",
    "while timer <= 3:\n",
    "    options = [\"Rock\", \"Paper\", \"Scissors\"]\n",
    "    comp_choice = random.choice(options)\n",
    "    player_choice = input(\"Enter your option (Rock, Paper, Scissors): \").title()\n",
    "\n",
    "    print(f\"ROUND {timer}\")\n",
    "    print(f\"Computer choice: {comp_choice}\")\n",
    "    print(f\"Player choice: {player_choice}\\n\\n\")\n",
    "\n",
    "    if player_choice == \"Rock\":\n",
    "        if comp_choice == \"Paper\":\n",
    "            computer_wins += 1\n",
    "        elif comp_choice == \"Scissors\":\n",
    "            player_wins += 1\n",
    "    elif player_choice == \"Paper\":\n",
    "        if comp_choice == \"Scissors\":\n",
    "            computer_wins += 1\n",
    "        elif comp_choice == \"Rock\":\n",
    "            player_wins += 1\n",
    "    elif player_choice == \"Scissors\":\n",
    "        if comp_choice == \"Rock\":\n",
    "            computer_wins += 1\n",
    "        elif comp_choice == \"Paper\":\n",
    "            player_wins += 1\n",
    "    else:\n",
    "        print(\"Invalid choice\")\n",
    "        \n",
    "    timer += 1\n",
    "\n",
    "\n",
    "if player_wins != computer_wins:\n",
    "    if player_wins > computer_wins:\n",
    "        print(f\"GAME OVER!\\nPlayer won the game. {player_wins}/3\")\n",
    "    else:\n",
    "        print(f\"GAME OVER!\\nComputer won the game. {computer_wins}/3\")\n",
    "else:\n",
    "    print(\"GAME OVER!\\n Game is a draw\")"
   ]
  },
  {
   "cell_type": "code",
   "execution_count": null,
   "metadata": {},
   "outputs": [],
   "source": []
  },
  {
   "cell_type": "markdown",
   "metadata": {},
   "source": [
    "### 2. Contact Book\n",
    "This project requires basic understanding of python dictionaries, lists, functions and OOP.\n",
    "\n",
    "Everyone uses a contact book to save contact details, including name, phone number, and even email address. The main objective of this project is to generate a contact book using python where users can add a new contact, edit, or delete existing contacts and view the details of all their contacts.\n",
    "\n"
   ]
  },
  {
   "cell_type": "code",
   "execution_count": null,
   "metadata": {},
   "outputs": [],
   "source": []
  },
  {
   "cell_type": "code",
   "execution_count": null,
   "metadata": {},
   "outputs": [],
   "source": []
  },
  {
   "cell_type": "markdown",
   "metadata": {},
   "source": [
    "### 3. Caesar Cipher\n",
    "* Build a simple Caesar Cipher with Python.\n",
    "* Research on what the Caesar cipher is and how it works.\n",
    "* Break down the logic and code it."
   ]
  },
  {
   "cell_type": "markdown",
   "metadata": {},
   "source": []
  }
 ],
 "metadata": {
  "kernelspec": {
   "display_name": "base",
   "language": "python",
   "name": "python3"
  },
  "language_info": {
   "codemirror_mode": {
    "name": "ipython",
    "version": 3
   },
   "file_extension": ".py",
   "mimetype": "text/x-python",
   "name": "python",
   "nbconvert_exporter": "python",
   "pygments_lexer": "ipython3",
   "version": "3.10.5"
  },
  "orig_nbformat": 4
 },
 "nbformat": 4,
 "nbformat_minor": 2
}
