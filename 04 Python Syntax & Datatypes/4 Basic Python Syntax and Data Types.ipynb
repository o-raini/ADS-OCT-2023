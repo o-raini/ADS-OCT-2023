{
 "cells": [
  {
   "cell_type": "markdown",
   "id": "762b6bf4",
   "metadata": {},
   "source": [
    "#  Basic Python Syntax and Data Types"
   ]
  },
  {
   "cell_type": "markdown",
   "id": "7d323a52",
   "metadata": {},
   "source": [
    "## Table of Contents\n",
    "\n",
    "1 Variables and data types\n",
    " * Numbers (integers and floats)\n",
    " * Strings\n",
    " * Booleans\n",
    "    \n",
    "2 Basic operators\n",
    "* Arithmetic operators\n",
    "\n",
    "3 Basic input and output\n",
    "* input() function\n",
    "* print() function\n",
    "\n",
    "4 Assignment Lab or Practical Work"
   ]
  },
  {
   "cell_type": "markdown",
   "id": "1014fff6",
   "metadata": {},
   "source": [
    "## Variables and data types\n",
    "\n",
    "* A variable is a symbolic name that is a reference or a pointer to an object stored in memory.\n",
    "* Variables can be assigned different types of data, such as numbers, strings, or booleans.\n",
    "\n",
    "##### Variable naming rules\n",
    "- A variable name can have a numbers letters and underscore. But cannot start with a number, only letters or underscore.\n",
    "- Spaces are not allowed in variable names but undescores can be used to separate words.\n",
    "- Avoid using python keywords and function names as variable names. eg print.\n",
    "- Variable names should be short and descriptive."
   ]
  },
  {
   "cell_type": "markdown",
   "id": "80284358",
   "metadata": {},
   "source": [
    "## Data Types"
   ]
  },
  {
   "cell_type": "markdown",
   "id": "c4f65ac2",
   "metadata": {},
   "source": []
  },
  {
   "cell_type": "markdown",
   "id": "2e484a40",
   "metadata": {},
   "source": [
    "### Numbers (integers and floats)\n",
    "\n",
    "In Python, numbers can be integers (whole numbers) or floats (numbers with decimal points). Here are a few examples:"
   ]
  },
  {
   "cell_type": "code",
   "execution_count": null,
   "id": "846d1369",
   "metadata": {},
   "outputs": [],
   "source": [
    "x = 42              # an integer\n",
    "y = 3.14            # a floating-point number\n"
   ]
  },
  {
   "cell_type": "markdown",
   "id": "ee2a062a",
   "metadata": {},
   "source": []
  },
  {
   "cell_type": "markdown",
   "id": "2f13e576",
   "metadata": {},
   "source": [
    "### Strings\n",
    "Strings are sequences of characters, enclosed in single or double quotes. Here are a few examples:"
   ]
  },
  {
   "cell_type": "code",
   "execution_count": null,
   "id": "9fe10798",
   "metadata": {},
   "outputs": [],
   "source": [
    "name = 'Alice'\n",
    "greeting = \"Hello, world!\"\n"
   ]
  },
  {
   "cell_type": "markdown",
   "id": "277c820a",
   "metadata": {},
   "source": [
    "#### String Concatenation\n",
    "* Means joining together multiple strings"
   ]
  },
  {
   "cell_type": "code",
   "execution_count": null,
   "id": "0082ab44",
   "metadata": {},
   "outputs": [],
   "source": [
    "greeting = \"Hello, \"\n",
    "name = \"John\""
   ]
  },
  {
   "cell_type": "code",
   "execution_count": null,
   "id": "28c42819",
   "metadata": {},
   "outputs": [],
   "source": [
    "greeting_name = greeting + name\n",
    "print(greeting_name)"
   ]
  },
  {
   "cell_type": "markdown",
   "id": "30c8ee3e",
   "metadata": {},
   "source": [
    "### Booleans\n",
    "Booleans are true/false values. In Python, the two possible boolean values are True and False. Here are a few examples:"
   ]
  },
  {
   "cell_type": "code",
   "execution_count": null,
   "id": "d7438dc4",
   "metadata": {},
   "outputs": [],
   "source": [
    "is_python_fun = True\n",
    "is_coding_hard = False"
   ]
  },
  {
   "cell_type": "markdown",
   "id": "5fed8944",
   "metadata": {},
   "source": []
  },
  {
   "cell_type": "markdown",
   "id": "56e982c9",
   "metadata": {},
   "source": [
    "## Basic operators\n",
    "\n",
    "Operators are used to perform operations on variables and values in Python. Here are a few basic operators:"
   ]
  },
  {
   "cell_type": "markdown",
   "id": "3b2d588f",
   "metadata": {},
   "source": [
    "### Arithmetic operators\n",
    "Arithmetic operators are used to perform mathematical operations. Here are a few examples:"
   ]
  },
  {
   "cell_type": "code",
   "execution_count": null,
   "id": "97c5753d",
   "metadata": {},
   "outputs": [],
   "source": [
    "x = 10\n",
    "y = 5\n",
    "\n",
    "# addition\n",
    "z = x + y\n",
    "print(z)    # prints 15\n",
    "\n",
    "# subtraction\n",
    "z = x - y\n",
    "print(z)    # prints 5\n",
    "\n",
    "# multiplication\n",
    "z = x * y\n",
    "print(z)    # prints 50\n",
    "\n",
    "# division\n",
    "z = x / y\n",
    "print(z)    # prints 2.0\n",
    "\n",
    "# Modulo\n",
    "m = x % 3 \n",
    "print(m) # prints 1 (remainder)\n",
    "\n",
    "# Exponentials\n",
    "e = y ** 2\n",
    "print(e) # prints 25"
   ]
  },
  {
   "cell_type": "markdown",
   "id": "d2ce7e4b",
   "metadata": {},
   "source": [
    "## Basic input and output\n",
    "\n",
    "In Python, we can use the input() function to prompt the user for input, and the print() function to output text.\n",
    "\n"
   ]
  },
  {
   "cell_type": "markdown",
   "id": "190ded43",
   "metadata": {},
   "source": [
    "### input() function\n",
    "The input() function prompts the user to enter input. Here's an example:"
   ]
  },
  {
   "cell_type": "code",
   "execution_count": null,
   "id": "dc598e5e",
   "metadata": {},
   "outputs": [],
   "source": [
    "name = input(\"Enter your name: \")\n",
    "print(\"Hello, \" + name + \"!\")\n"
   ]
  },
  {
   "cell_type": "markdown",
   "id": "aa2baf51",
   "metadata": {},
   "source": [
    "### print() function\n",
    "The print() function outputs text. Here's an example:"
   ]
  },
  {
   "cell_type": "code",
   "execution_count": null,
   "id": "8553cae8",
   "metadata": {},
   "outputs": [],
   "source": [
    "print(\"Hello, world!\")\n"
   ]
  },
  {
   "cell_type": "markdown",
   "id": "6f66e5b9",
   "metadata": {},
   "source": [
    "You can also use the print() function to output the value of a variable:"
   ]
  },
  {
   "cell_type": "code",
   "execution_count": null,
   "id": "f73438b4",
   "metadata": {},
   "outputs": [],
   "source": [
    "x = 42\n",
    "print(\"The value of x is:\", x)\n"
   ]
  },
  {
   "cell_type": "markdown",
   "id": "2a13f8bf",
   "metadata": {},
   "source": [
    "# Assignment Lab or Practical Work"
   ]
  },
  {
   "cell_type": "markdown",
   "id": "9f7d3f9d",
   "metadata": {},
   "source": [
    "## Basic Python Syntax and Data Types Assignment using Replit"
   ]
  },
  {
   "cell_type": "markdown",
   "id": "cf6e103f",
   "metadata": {},
   "source": [
    "### Objective:\n",
    "The goal of this assignment is to help you practice basic Python syntax and understand common data types. You will use Replit to write, run, and share Python scripts that demonstrate your understanding of variables, numbers, strings, booleans, basic operators, and input/output functions."
   ]
  },
  {
   "cell_type": "markdown",
   "id": "01f41b80",
   "metadata": {},
   "source": [
    "## Tasks:\n",
    "\n",
    "### 1 Create a new Python Repl:\n",
    "\n",
    "* Follow the instructions in the \"Getting Started with Replit Python\" tutorial to create a new Python Repl.\n",
    "* Name your Repl \"BMI_Calculator\"."
   ]
  },
  {
   "cell_type": "markdown",
   "id": "2967e097",
   "metadata": {},
   "source": [
    "### 2 Create a BMI calculator\n",
    "\n",
    "* Get the user weight in kilograms using the input function.\n",
    "* Also get the user height in metres.\n",
    "* Calculate the BMI.\n",
    "* Formula for BMI: ***weight in kg / height in metres squared.***\n",
    "* Display the BMI\n",
    "\n",
    "\n",
    "#### Extra practice\n",
    "* Round off the BMI value to 2 decimal places."
   ]
  },
  {
   "cell_type": "markdown",
   "id": "e2a59cf9",
   "metadata": {},
   "source": [
    "### 6 Share your Python Repl:\n",
    "\n",
    "Once you have completed the tasks above, submit the link to your Repl as your assignment."
   ]
  },
  {
   "cell_type": "markdown",
   "id": "d010c541",
   "metadata": {},
   "source": [
    "# Solutions\n"
   ]
  },
  {
   "cell_type": "code",
   "execution_count": 7,
   "id": "b4ddf73f",
   "metadata": {},
   "outputs": [
    {
     "name": "stdout",
     "output_type": "stream",
     "text": [
      "Your height is 1.9\n",
      "Your weight is 89.0\n",
      "Your BMI is 25.0\n"
     ]
    }
   ],
   "source": [
    "weight = float(input(\"Please enter your weight (in KGs) \"))\n",
    "height = float(input(\"Please enter your height (in Metres) \"))\n",
    "print(f\"Your height is {height}\") \n",
    "print(f\"Your weight is {weight}\")\n",
    "# F-strings in Python\n",
    "\n",
    "bmi = weight / (height ** 2)\n",
    "bmi_rounded = round(bmi, 2)\n",
    "print(f\"Your BMI is {bmi_rounded}\")"
   ]
  },
  {
   "cell_type": "code",
   "execution_count": null,
   "id": "c37cf738",
   "metadata": {},
   "outputs": [],
   "source": []
  }
 ],
 "metadata": {
  "kernelspec": {
   "display_name": "Python 3 (ipykernel)",
   "language": "python",
   "name": "python3"
  },
  "language_info": {
   "codemirror_mode": {
    "name": "ipython",
    "version": 3
   },
   "file_extension": ".py",
   "mimetype": "text/x-python",
   "name": "python",
   "nbconvert_exporter": "python",
   "pygments_lexer": "ipython3",
   "version": "3.9.13"
  }
 },
 "nbformat": 4,
 "nbformat_minor": 5
}
