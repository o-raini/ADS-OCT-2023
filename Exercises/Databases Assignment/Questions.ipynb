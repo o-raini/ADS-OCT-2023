{
 "cells": [
  {
   "cell_type": "markdown",
   "metadata": {},
   "source": [
    "# Databases Assignment\n",
    "\n",
    "* Load the Database file provided that is the \"**companyDB.sql**\" into your MySQL Workbench and run it to create the Database.\n",
    "* Use the database created to answer the questions below.\n",
    "\n",
    "### How to submit the Assignment\n",
    "\n",
    "1. Take a screenshot of the SQL code for each question.\n",
    "2. Save the screenshot images in a folder.\n",
    "3. Create a remote repository on Github.\n",
    "4. Push all the screenshots to the Github repository.\n",
    "5. Submit the repository URL on Dexvirtual.\n",
    "\n",
    "<span style=\"color:#E600E6\">**NOTE: These Qns might require you to apply some concepts that we didn't discuss in class. You should do some research online.**</span>\n",
    "\n",
    "* Feel free to formulate your own questions and answer them for more practice."
   ]
  },
  {
   "cell_type": "code",
   "execution_count": null,
   "metadata": {},
   "outputs": [],
   "source": []
  },
  {
   "cell_type": "markdown",
   "metadata": {},
   "source": [
    "## Question 1: What is the average credit limit for customers?"
   ]
  },
  {
   "cell_type": "code",
   "execution_count": null,
   "metadata": {},
   "outputs": [],
   "source": []
  },
  {
   "cell_type": "markdown",
   "metadata": {},
   "source": [
    "## Question 2: How many customers have higher credit limit than the average above?"
   ]
  },
  {
   "cell_type": "code",
   "execution_count": null,
   "metadata": {},
   "outputs": [],
   "source": []
  },
  {
   "cell_type": "markdown",
   "metadata": {},
   "source": [
    "## Question 3: Which are the top 3 countries with the highest number of customers?"
   ]
  },
  {
   "cell_type": "code",
   "execution_count": null,
   "metadata": {},
   "outputs": [],
   "source": []
  },
  {
   "cell_type": "markdown",
   "metadata": {},
   "source": [
    "## Question 4: Which sales reps have the highest number of customers? (TOP 3)"
   ]
  },
  {
   "cell_type": "code",
   "execution_count": null,
   "metadata": {},
   "outputs": [],
   "source": []
  },
  {
   "cell_type": "markdown",
   "metadata": {},
   "source": [
    "## Question 5: Who are the top 3 customers with the highest money spent and how much did each spend?"
   ]
  },
  {
   "cell_type": "code",
   "execution_count": null,
   "metadata": {},
   "outputs": [],
   "source": []
  },
  {
   "cell_type": "markdown",
   "metadata": {},
   "source": [
    "## Question 6: Which sales reps have the highest revenue generated? And how much is the revenue or each (Top 3)"
   ]
  },
  {
   "cell_type": "code",
   "execution_count": null,
   "metadata": {},
   "outputs": [],
   "source": []
  },
  {
   "cell_type": "markdown",
   "metadata": {},
   "source": [
    "## Question 7: Write a query tha returns all the company's employees and the person each reports to.\n",
    "\n",
    "### Your results should look like this:\n",
    "![employees](./employees.png)"
   ]
  },
  {
   "cell_type": "code",
   "execution_count": null,
   "metadata": {},
   "outputs": [],
   "source": []
  }
 ],
 "metadata": {
  "language_info": {
   "name": "python"
  }
 },
 "nbformat": 4,
 "nbformat_minor": 2
}
