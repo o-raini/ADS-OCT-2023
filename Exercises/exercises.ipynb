{
 "cells": [
  {
   "cell_type": "markdown",
   "metadata": {},
   "source": [
    "## Exercises"
   ]
  },
  {
   "cell_type": "markdown",
   "metadata": {},
   "source": []
  },
  {
   "cell_type": "markdown",
   "metadata": {},
   "source": [
    "### 1. Write a function to return **True** if the first and last number of a given list is same. If numbers are different then return **False**.\n",
    "\n",
    "**Given:**\n",
    "```python\n",
    "    numbers_x = [10, 20, 30, 40, 10]\n",
    "    numbers_y = [75, 65, 35, 75, 30]\n",
    "```\n",
    "The function should return **True** for the first list and **False** for the second."
   ]
  },
  {
   "cell_type": "code",
   "execution_count": 1,
   "metadata": {},
   "outputs": [
    {
     "name": "stdout",
     "output_type": "stream",
     "text": [
      "True\n",
      "False\n"
     ]
    }
   ],
   "source": [
    "def check_number(numbers):\n",
    "    return numbers[0] == numbers[-1]\n",
    "print(check_number([10, 20, 30, 40, 10]))\n",
    "print(check_number([75, 65, 35, 75, 30]))"
   ]
  },
  {
   "cell_type": "markdown",
   "metadata": {},
   "source": [
    "### 2. FIZZ BUZZ\n",
    "* Write a program that prints the numbers from 1 to n. But for multiples of 3, print **'Fizz'** instead of the number, and for multiples of 5, print **'Buzz'**. For numbers that are multiples of both 3 and 5, print **'FizzBuzz'**.\"\n",
    "\n",
    "**Example:**\n",
    "```\n",
    "1\n",
    "2\n",
    "Fizz\n",
    "4\n",
    "Buzz\n",
    "Fizz\n",
    "7\n",
    "8\n",
    "Fizz\n",
    "Buzz\n",
    "11\n",
    "```"
   ]
  },
  {
   "cell_type": "markdown",
   "metadata": {},
   "source": []
  },
  {
   "cell_type": "markdown",
   "metadata": {},
   "source": [
    "### 3. Reverse order.\n",
    "* Write a function to extract each digit from an integer in the reverse order.\n",
    "* For example, If the given integer is **7536**, the output shall be **6 3 5 7**, with a space separating the digits."
   ]
  },
  {
   "cell_type": "markdown",
   "metadata": {},
   "source": []
  },
  {
   "cell_type": "markdown",
   "metadata": {},
   "source": []
  }
 ],
 "metadata": {
  "kernelspec": {
   "display_name": "Python 3",
   "language": "python",
   "name": "python3"
  },
  "language_info": {
   "codemirror_mode": {
    "name": "ipython",
    "version": 3
   },
   "file_extension": ".py",
   "mimetype": "text/x-python",
   "name": "python",
   "nbconvert_exporter": "python",
   "pygments_lexer": "ipython3",
   "version": "3.10.5"
  }
 },
 "nbformat": 4,
 "nbformat_minor": 2
}
