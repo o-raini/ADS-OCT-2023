{
 "cells": [
  {
   "cell_type": "markdown",
   "metadata": {},
   "source": [
    "## Exercises"
   ]
  },
  {
   "cell_type": "markdown",
   "metadata": {},
   "source": []
  },
  {
   "cell_type": "markdown",
   "metadata": {},
   "source": [
    "### 1. Write a function to return **True** if the first and last number of a given list is same. If numbers are different then return **False**.\n",
    "\n",
    "**Given:**\n",
    "```python\n",
    "    numbers_x = [10, 20, 30, 40, 10]\n",
    "    numbers_y = [75, 65, 35, 75, 30]\n",
    "```\n",
    "The function should return **True** for the first list and **False** for the second."
   ]
  },
  {
   "cell_type": "markdown",
   "metadata": {},
   "source": []
  },
  {
   "cell_type": "markdown",
   "metadata": {},
   "source": [
    "### 2. FIZZ BUZZ\n",
    "* Write a program that prints the numbers from 1 to n. But for multiples of 3, print **'Fizz'** instead of the number, and for multiples of 5, print **'Buzz'**. For numbers that are multiples of both 3 and 5, print **'FizzBuzz'**.\"\n",
    "\n",
    "**Example:**\n",
    "```\n",
    "1\n",
    "2\n",
    "Fizz\n",
    "4\n",
    "Buzz\n",
    "Fizz\n",
    "7\n",
    "8\n",
    "Fizz\n",
    "Buzz\n",
    "11\n",
    "```"
   ]
  },
  {
   "cell_type": "markdown",
   "metadata": {},
   "source": []
  },
  {
   "cell_type": "markdown",
   "metadata": {},
   "source": [
    "### 3. Reverse order.\n",
    "* Write a function to extract each digit from an integer in the reverse order.\n",
    "* For example, If the given integer is **7536**, the output shall be **6 3 5 7**, with a space separating the digits."
   ]
  },
  {
   "cell_type": "markdown",
   "metadata": {},
   "source": []
  },
  {
   "cell_type": "markdown",
   "metadata": {},
   "source": []
  }
 ],
 "metadata": {
  "language_info": {
   "name": "python"
  }
 },
 "nbformat": 4,
 "nbformat_minor": 2
}
