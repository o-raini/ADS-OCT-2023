{
 "cells": [
  {
   "cell_type": "markdown",
   "metadata": {},
   "source": [
    "# PYTHON LOOPS"
   ]
  },
  {
   "cell_type": "markdown",
   "metadata": {},
   "source": [
    "- The concept of looping is important because it’s one of the most common ways a computer automates repetitive tasks.\n",
    "- In Python there are two types of loops:\n",
    "    - **for loops**\n",
    "    - **while loops**"
   ]
  },
  {
   "cell_type": "markdown",
   "metadata": {},
   "source": [
    "### For loop\n",
    "- The for loop in Python is used to iterate over a sequence (list, tuple, string) or other iterable objects.\n",
    "- Or just repeat the same action or a set of actions on every item in a sequence."
   ]
  },
  {
   "cell_type": "markdown",
   "metadata": {},
   "source": [
    "Assume you have this list:"
   ]
  },
  {
   "cell_type": "code",
   "execution_count": 1,
   "metadata": {},
   "outputs": [],
   "source": [
    "num = [5, 6, 7, 8]"
   ]
  },
  {
   "cell_type": "code",
   "execution_count": 2,
   "metadata": {},
   "outputs": [
    {
     "data": {
      "text/plain": [
       "[5, 6, 7, 8]"
      ]
     },
     "execution_count": 2,
     "metadata": {},
     "output_type": "execute_result"
    }
   ],
   "source": [
    "num"
   ]
  },
  {
   "cell_type": "markdown",
   "metadata": {},
   "source": [
    "and you wanted square to every number in that list.\n",
    "- Since this is a short list you could do this,"
   ]
  },
  {
   "cell_type": "code",
   "execution_count": 3,
   "metadata": {},
   "outputs": [
    {
     "name": "stdout",
     "output_type": "stream",
     "text": [
      "[25, 36, 49, 64]\n"
     ]
    }
   ],
   "source": [
    "num = [5**2, 6**2, 7**2, 8**2]\n",
    "print(num)"
   ]
  },
  {
   "cell_type": "markdown",
   "metadata": {},
   "source": [
    "- But as can already tell, this is to much work even with such a small list\n",
    "- Now imagine you had a list with 1000 numbers, this would be too much work.\n",
    "- That's where a for loop come in handy, you can perfom an action on all the numbers in the list with a few lines of code, despite the length of the list."
   ]
  },
  {
   "cell_type": "markdown",
   "metadata": {},
   "source": [
    "### Syntax of a For loop\n",
    "```python\n",
    "for val in sequence:\n",
    "    loop body\n",
    "```"
   ]
  },
  {
   "cell_type": "markdown",
   "metadata": {},
   "source": [
    "- Here, **val** is the temporary variable that takes the value of the item inside the sequence on each iteration.\n",
    "- Loop continues until we reach the last item in the sequence. \n",
    "- The body of for loop is separated from the rest of the code using indentation."
   ]
  },
  {
   "cell_type": "markdown",
   "metadata": {},
   "source": [
    "### For Loop Flowchart."
   ]
  },
  {
   "cell_type": "code",
   "execution_count": 2,
   "metadata": {},
   "outputs": [
    {
     "data": {
      "image/png": "[encoded data removed]",
      "text/plain": [
       "<IPython.core.display.Image object>"
      ]
     },
     "execution_count": 2,
     "metadata": {},
     "output_type": "execute_result"
    }
   ],
   "source": [
    "from IPython import display\n",
    "display.Image(\"for loop.png\")"
   ]
  },
  {
   "cell_type": "code",
   "execution_count": null,
   "metadata": {},
   "outputs": [
    {
     "name": "stdout",
     "output_type": "stream",
     "text": [
      "5\n",
      "6\n",
      "7\n",
      "8\n",
      "Done\n"
     ]
    }
   ],
   "source": [
    "numbers = [5, 6, 7, 8]\n",
    "for n in numbers:\n",
    "    print(n)\n",
    "print(\"Done\")"
   ]
  },
  {
   "cell_type": "code",
   "execution_count": null,
   "metadata": {},
   "outputs": [],
   "source": []
  },
  {
   "cell_type": "markdown",
   "metadata": {},
   "source": [
    "### Range Function\n",
    "- We can generate a sequence of numbers using range() function. \n",
    "- range(10) will generate numbers from 0 to 9 (10 numbers).\n",
    "- We can also define the start, stop and step size as **range(start, stop,step_size)**. \n",
    "- step_size defaults to 1 if not provided."
   ]
  },
  {
   "cell_type": "code",
   "execution_count": 12,
   "metadata": {},
   "outputs": [
    {
     "data": {
      "text/plain": [
       "range(0, 10, 2)"
      ]
     },
     "execution_count": 12,
     "metadata": {},
     "output_type": "execute_result"
    }
   ],
   "source": [
    "range(0, 10, 2)"
   ]
  },
  {
   "cell_type": "markdown",
   "metadata": {},
   "source": [
    "- This function does not store all the values in memory; it would be inefficient. \n",
    "- So it remembers the start, stop, step size and generates the next number on the go.\n",
    "- To force this function to output all the items, we can use the function list()"
   ]
  },
  {
   "cell_type": "code",
   "execution_count": 14,
   "metadata": {},
   "outputs": [
    {
     "name": "stdout",
     "output_type": "stream",
     "text": [
      "[0, 1, 2, 3, 4, 5, 6, 7, 8, 9]\n"
     ]
    }
   ],
   "source": [
    "print(list(range(0, 10, 1)))"
   ]
  },
  {
   "cell_type": "markdown",
   "metadata": {},
   "source": [
    "- We can use the range() function in for loops to iterate through a sequence of numbers. \n",
    "- It can be combined with the len() function to iterate through a sequence using indexing."
   ]
  },
  {
   "cell_type": "code",
   "execution_count": null,
   "metadata": {},
   "outputs": [
    {
     "name": "stdout",
     "output_type": "stream",
     "text": [
      "Hello Reagan\n",
      "Hello Ian\n",
      "Hello Sharon\n",
      "Hello Happy\n",
      "Hello Tabitha\n"
     ]
    }
   ],
   "source": [
    "visitors = [\"Reagan\", \"Ian\", \"Sharon\", \"Happy\", \"Tabitha\"]\n",
    "\n",
    "for i in range(len(visitors)):\n",
    "    print(f\"Hello {visitors[i]}\")"
   ]
  },
  {
   "cell_type": "code",
   "execution_count": null,
   "metadata": {},
   "outputs": [],
   "source": []
  },
  {
   "cell_type": "markdown",
   "metadata": {},
   "source": [
    "### Common Errors Associated with a for loop.\n",
    "- **Identation Error:** When you forget to indent the body of the for loop.\n",
    "- **Syntax Error:** When you forget add a colon at the end of the for statement."
   ]
  },
  {
   "cell_type": "code",
   "execution_count": 16,
   "metadata": {},
   "outputs": [
    {
     "name": "stdout",
     "output_type": "stream",
     "text": [
      "Reagan\n",
      "Ian\n",
      "Sharon\n",
      "Happy\n",
      "Tabitha\n"
     ]
    }
   ],
   "source": [
    "for n in visitors:\n",
    "    print(n)"
   ]
  },
  {
   "cell_type": "code",
   "execution_count": null,
   "metadata": {},
   "outputs": [],
   "source": []
  },
  {
   "cell_type": "markdown",
   "metadata": {},
   "source": [
    "## While Loop\n",
    "- A while loop runs as long as,or while, a certain condition is true.\n",
    "- We generally use this loop when we don't know the number of times to iterate beforehand."
   ]
  },
  {
   "cell_type": "markdown",
   "metadata": {},
   "source": [
    "### Syntax of a While Loop.\n",
    "```python\n",
    "while test_condition:\n",
    "    loop body\n",
    "```"
   ]
  },
  {
   "cell_type": "code",
   "execution_count": 21,
   "metadata": {},
   "outputs": [
    {
     "data": {
      "image/png": "[encoded data removed]",
      "text/plain": [
       "<IPython.core.display.Image object>"
      ]
     },
     "execution_count": 21,
     "metadata": {},
     "output_type": "execute_result"
    }
   ],
   "source": [
    "display.Image(\"while loop.png\")"
   ]
  },
  {
   "cell_type": "markdown",
   "metadata": {},
   "source": [
    "Assume you wanted to get the sum of numbers up to a certain number. Here the while loop is used:"
   ]
  },
  {
   "cell_type": "code",
   "execution_count": 18,
   "metadata": {},
   "outputs": [
    {
     "name": "stdout",
     "output_type": "stream",
     "text": [
      "0\n",
      "1\n",
      "3\n",
      "6\n",
      "10\n",
      "15\n"
     ]
    }
   ],
   "source": [
    "n = 5\n",
    "i = 0\n",
    "total = 0\n",
    "while i <= n:\n",
    "    total += i\n",
    "    i += 1 # Update counter\n",
    "    print(total)\n",
    "    "
   ]
  },
  {
   "cell_type": "markdown",
   "metadata": {},
   "source": [
    "- In the above program, the test expression will be ***True*** as long as our counter variable **i** is less than or equal to **n** (5 in our program).\n",
    "- We need to increase the value of the counter variable in the body of the loop. \n",
    "- This is very important as failure to do so will result in an infinite loop (never-ending loop)."
   ]
  },
  {
   "cell_type": "markdown",
   "metadata": {},
   "source": [
    "### Using a Flag\n",
    "- Used when many different events could cause the program to stop running.\n",
    "- For example, in a game, several different events can end the game.\n",
    "    - User quits.\n",
    "    - When time runs out\n",
    "    - When the player \"dies\" 😉😉.\n",
    "- If many possible events might occur to stop the program, trying to test all these conditions in one while statement becomes complicated and difficult.\n",
    "- So we can define one variable that determines whether or not the entire program is active.\n",
    "- This variable, called a **flag**, acts as a signal to the program. \n",
    "- We can write our programs so they run while the flag is set to ***True*** and stop running when any of several events sets the value of the flag to ***False***."
   ]
  },
  {
   "cell_type": "code",
   "execution_count": 20,
   "metadata": {},
   "outputs": [
    {
     "name": "stdout",
     "output_type": "stream",
     "text": [
      "Enter Message: hello\n",
      "hello\n",
      "Enter Message: worls\n",
      "worls\n",
      "Enter Message: hey\n",
      "hey\n",
      "Enter Message: there\n",
      "there\n",
      "Enter Message: quit\n"
     ]
    }
   ],
   "source": [
    "active = True\n",
    "while active:\n",
    "    message = input(\"Enter Message: \")\n",
    "    if message == 'quit':\n",
    "        active = False\n",
    "    elif message == \"\":\n",
    "        active = False\n",
    "    else:\n",
    "        print(message)"
   ]
  },
  {
   "cell_type": "markdown",
   "metadata": {},
   "source": [
    "### Break\n",
    "- The break keyword is used to terminate/exit a loop without running the rest of the code in the loop."
   ]
  },
  {
   "cell_type": "code",
   "execution_count": 22,
   "metadata": {},
   "outputs": [
    {
     "data": {
      "image/png": "[encoded data removed]",
      "text/plain": [
       "<IPython.core.display.Image object>"
      ]
     },
     "execution_count": 22,
     "metadata": {},
     "output_type": "execute_result"
    }
   ],
   "source": [
    "display.Image(\"break.png\")"
   ]
  },
  {
   "cell_type": "markdown",
   "metadata": {},
   "source": [
    "- For example, consider a program that asks the user about places they’ve visited. \n",
    "- We can stop the while loop in this program by calling break as soon as the user enters the ***'quit'*** value."
   ]
  },
  {
   "cell_type": "code",
   "execution_count": null,
   "metadata": {},
   "outputs": [],
   "source": []
  },
  {
   "cell_type": "code",
   "execution_count": 21,
   "metadata": {},
   "outputs": [
    {
     "name": "stdout",
     "output_type": "stream",
     "text": [
      "Enter city visited or 'quit' to exit: nairobi\n",
      "nairobi\n",
      "Enter city visited or 'quit' to exit: mombasa\n",
      "mombasa\n",
      "Enter city visited or 'quit' to exit: moshi\n",
      "moshi\n",
      "Enter city visited or 'quit' to exit: kampala\n",
      "kampala\n",
      "Enter city visited or 'quit' to exit: quit\n"
     ]
    }
   ],
   "source": [
    "while True:\n",
    "    city = input(\"Enter city visited or 'quit' to exit: \")\n",
    "    if city.lower() == 'quit':\n",
    "        break\n",
    "    else:\n",
    "        print(city)"
   ]
  },
  {
   "cell_type": "markdown",
   "metadata": {},
   "source": [
    "**Note:** \n",
    "- You can use the break statement in any of Python’s loops. \n",
    "- For example, you could use break to quit a for loop that’s working through a list or a dictionary."
   ]
  },
  {
   "cell_type": "markdown",
   "metadata": {},
   "source": [
    "### Continue\n",
    "- Rather than breaking out of a loop entirely without executing the rest of its code, you can use the ***continue*** statement to return to the beginning of the loop based on the result of a conditional test. \n",
    "- For example, consider a loop that counts from 1 to 10 but prints only the odd numbers in that range:"
   ]
  },
  {
   "cell_type": "code",
   "execution_count": 25,
   "metadata": {},
   "outputs": [
    {
     "name": "stdout",
     "output_type": "stream",
     "text": [
      "1\n",
      "3\n",
      "5\n",
      "7\n",
      "9\n"
     ]
    }
   ],
   "source": [
    "number = 0\n",
    "while number <= 10:\n",
    "    number += 1\n",
    "    if number % 2 == 0:\n",
    "        continue\n",
    "    print(number)"
   ]
  },
  {
   "cell_type": "code",
   "execution_count": 3,
   "metadata": {},
   "outputs": [
    {
     "data": {
      "image/png": "[encoded data removed]",
      "text/plain": [
       "<IPython.core.display.Image object>"
      ]
     },
     "execution_count": 3,
     "metadata": {},
     "output_type": "execute_result"
    }
   ],
   "source": [
    "display.Image(\"continue.png\")"
   ]
  },
  {
   "cell_type": "markdown",
   "metadata": {},
   "source": [
    "# END"
   ]
  }
 ],
 "metadata": {
  "kernelspec": {
   "display_name": "Python 3 (ipykernel)",
   "language": "python",
   "name": "python3"
  },
  "language_info": {
   "codemirror_mode": {
    "name": "ipython",
    "version": 3
   },
   "file_extension": ".py",
   "mimetype": "text/x-python",
   "name": "python",
   "nbconvert_exporter": "python",
   "pygments_lexer": "ipython3",
   "version": "3.10.5"
  }
 },
 "nbformat": 4,
 "nbformat_minor": 4
}
