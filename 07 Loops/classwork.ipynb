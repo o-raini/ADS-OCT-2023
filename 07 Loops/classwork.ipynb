{
 "cells": [
  {
   "cell_type": "code",
   "execution_count": 4,
   "metadata": {},
   "outputs": [],
   "source": [
    "names = [\"Jane\", \"Joe\", \"Jolie\", \"John\", \"Andre\", \"Dakota\"]"
   ]
  },
  {
   "cell_type": "code",
   "execution_count": 5,
   "metadata": {},
   "outputs": [
    {
     "name": "stdout",
     "output_type": "stream",
     "text": [
      "Hello Joe. How is the going?\n",
      "Hello Jane. How is the going?\n",
      "Hello Jolie. How is the going?\n",
      "Hello John. How is the going?\n",
      "Hello Andre. How is the going?\n",
      "Hello Dakota. How is the going?\n"
     ]
    }
   ],
   "source": [
    "print(f\"Hello Joe. How is the going?\")\n",
    "print(f\"Hello Jane. How is the going?\")\n",
    "print(f\"Hello Jolie. How is the going?\")\n",
    "print(f\"Hello John. How is the going?\")\n",
    "print(f\"Hello Andre. How is the going?\")\n",
    "print(f\"Hello Dakota. How is the going?\")"
   ]
  },
  {
   "cell_type": "code",
   "execution_count": 11,
   "metadata": {},
   "outputs": [
    {
     "name": "stdout",
     "output_type": "stream",
     "text": [
      "Hello Jane. How is the going?\n",
      "Hello Joe. How is the going?\n",
      "Hello Jolie. How is the going?\n",
      "Hello John. How is the going?\n",
      "Hello Andre. How is the going?\n",
      "Hello Dakota. How is the going?\n"
     ]
    }
   ],
   "source": [
    "for n in names:\n",
    "    print(f\"Hello {n}. How is the going?\")"
   ]
  },
  {
   "cell_type": "code",
   "execution_count": null,
   "metadata": {},
   "outputs": [],
   "source": []
  },
  {
   "cell_type": "code",
   "execution_count": null,
   "metadata": {},
   "outputs": [],
   "source": []
  },
  {
   "cell_type": "code",
   "execution_count": 13,
   "metadata": {},
   "outputs": [
    {
     "name": "stdout",
     "output_type": "stream",
     "text": [
      "Total is 15\n"
     ]
    }
   ],
   "source": [
    "end = 5\n",
    "start = 0\n",
    "total = 0\n",
    "while start <= end:\n",
    "    total += start\n",
    "    start += 1 # Update counter\n",
    "print(f\"Total is {total}\")\n",
    "    "
   ]
  },
  {
   "cell_type": "code",
   "execution_count": 15,
   "metadata": {},
   "outputs": [
    {
     "name": "stdout",
     "output_type": "stream",
     "text": [
      "hola\n",
      "hello\n"
     ]
    }
   ],
   "source": [
    "active = True\n",
    "while active:\n",
    "    message = input(\"Enter Message: \")\n",
    "    if message == 'quit':\n",
    "        active = False\n",
    "    elif message == \"\":\n",
    "        active=False\n",
    "    else:\n",
    "        print(message)"
   ]
  },
  {
   "cell_type": "code",
   "execution_count": 16,
   "metadata": {},
   "outputs": [
    {
     "name": "stdout",
     "output_type": "stream",
     "text": [
      "Jolie\n"
     ]
    }
   ],
   "source": [
    "for n in names:\n",
    "    if n == \"Jolie\":\n",
    "        print(n)\n",
    "        break"
   ]
  },
  {
   "cell_type": "code",
   "execution_count": 17,
   "metadata": {},
   "outputs": [
    {
     "name": "stdout",
     "output_type": "stream",
     "text": [
      "nairobi\n",
      "mombasa\n",
      "kampala\n",
      "kigali\n"
     ]
    }
   ],
   "source": [
    "while True:\n",
    "    city = input(\"Enter city visited or 'quit' to exit: \")\n",
    "    if city.lower() == 'quit':\n",
    "        break\n",
    "    else:\n",
    "        print(city)"
   ]
  },
  {
   "cell_type": "code",
   "execution_count": 18,
   "metadata": {},
   "outputs": [
    {
     "name": "stdout",
     "output_type": "stream",
     "text": [
      "1\n",
      "3\n",
      "5\n",
      "7\n",
      "9\n",
      "11\n",
      "13\n",
      "15\n"
     ]
    }
   ],
   "source": [
    "number = 0\n",
    "while number <= 15:\n",
    "    number += 1\n",
    "    if number % 2 == 0:\n",
    "        continue\n",
    "    print(number)"
   ]
  }
 ],
 "metadata": {
  "kernelspec": {
   "display_name": "Python 3",
   "language": "python",
   "name": "python3"
  },
  "language_info": {
   "codemirror_mode": {
    "name": "ipython",
    "version": 3
   },
   "file_extension": ".py",
   "mimetype": "text/x-python",
   "name": "python",
   "nbconvert_exporter": "python",
   "pygments_lexer": "ipython3",
   "version": "3.10.5"
  }
 },
 "nbformat": 4,
 "nbformat_minor": 2
}
